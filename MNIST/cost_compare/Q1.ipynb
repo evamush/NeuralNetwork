{
 "cells": [
  {
   "cell_type": "code",
   "execution_count": 3,
   "metadata": {},
   "outputs": [
    {
     "name": "stdout",
     "output_type": "stream",
     "text": [
      "Extracting MNIST_data/train-images-idx3-ubyte.gz\n",
      "Extracting MNIST_data/train-labels-idx1-ubyte.gz\n",
      "Extracting MNIST_data/t10k-images-idx3-ubyte.gz\n",
      "Extracting MNIST_data/t10k-labels-idx1-ubyte.gz\n"
     ]
    }
   ],
   "source": [
    "from __future__ import print_function\n",
    "import numpy as np\n",
    "import tensorflow as tf\n",
    "from tensorflow.examples.tutorials.mnist import input_data\n",
    "import matplotlib.pyplot as plt\n",
    "\n",
    "# load the mnist data\n",
    "mnist = input_data.read_data_sets('MNIST_data/', one_hot=True)\n",
    "\n",
    "images = mnist.test.images\n",
    "labels = mnist.test.labels\n",
    "\n",
    "#print (mnist.test.images.shape)\n",
    "#print (mnist.test.labels.shape)"
   ]
  },
  {
   "cell_type": "raw",
   "metadata": {
    "collapsed": true
   },
   "source": [
    "W_1 = (np.random.randn(784,100))/tf.sqrt(784/2)\n",
    "b_1 = (np.random.randn(100,))/tf.sqrt(784/2)\n",
    "      \n",
    "W_2 = (np.random.randn(100,50))/tf.sqrt(100/2)\n",
    "b_2 = (np.random.randn(50,))/tf.sqrt(100/2)\n",
    "\n",
    "W = (np.random.randn(50,10))/tf.sqrt(50/2)\n",
    "b = (np.random.randn(10,))/tf.sqrt(50/2)"
   ]
  },
  {
   "cell_type": "code",
   "execution_count": 5,
   "metadata": {
    "collapsed": true
   },
   "outputs": [],
   "source": [
    "def sigmoid(z):\n",
    "        g = 1 /(1 + np.exp(-z))\n",
    "        return g\n",
    "\n",
    "def sigmoid_gradient(z): \n",
    "        g = (np.exp(-z))/(1 + np.exp(-z))**2 \n",
    "        return g\n",
    "\n",
    "def relu(z):\n",
    "        g = z * (z > 0)\n",
    "        return g\n",
    "\n",
    "def relu_gradient(z):\n",
    "        g = 1 * (z > 0)\n",
    "        return g     \n",
    "\n",
    "def softmax(z):\n",
    "        g = np.exp(z) / np.sum(np.exp(z), axis=0)\n",
    "        return g #np.exp(z) / np.sum(np.exp(z), axis=1, keepdims=True)\n",
    "    \n",
    "\n"
   ]
  },
  {
   "cell_type": "code",
   "execution_count": 64,
   "metadata": {
    "collapsed": true
   },
   "outputs": [],
   "source": [
    " class Network(object):\n",
    "    def __init__(self, nnodes,activation_func):\n",
    "        self.sizes = nnodes\n",
    "        self.num_layers = len(nnodes)\n",
    "        self.activation_func = activation_func\n",
    "        self.biases = [np.random.randn(y,1) for y in nnodes[1:]]\n",
    "        self.weights = [np.random.randn(y,x)/np.sqrt(x/2)\n",
    "                        for x, y in zip(nnodes[:-1], nnodes[1:])]  #[784, 100, 50], [ 100, 50, 10 ]\n",
    "        self.costs=[]  # stores the costs during training\n",
    "        self.accuracies=[] # stores the accuracies during training \n",
    "        \n",
    "    def feedforward(self, inputs):\n",
    "        activations = []\n",
    "        activations.append(inputs) \n",
    "        zs= [] \n",
    "        \n",
    "        for l in range(len(self.weights)-1): #4-1 = 3\n",
    "            b = self.biases[l]\n",
    "            w = self.weights[l]\n",
    "            z = w @ inputs + b\n",
    "           \n",
    "            if self.activation_func[l]=='sigmoid':\n",
    "                activation = sigmoid(z)\n",
    "            elif self.activation_func[l]=='relu': \n",
    "                activation = relu(z)\n",
    "       \n",
    "            zs.append(z) \n",
    "            activations.append(activation)\n",
    "            inputs=activation  \n",
    "            \n",
    "        w = self.weights[-1]\n",
    "        b = self.biases[-1]\n",
    "        z = w @ inputs + b\n",
    "        activation = softmax(z)\n",
    "        activations.append(activation)\n",
    "        zs.append(z)\n",
    "        return activation,zs,activations\n",
    "    \n",
    "    def cost_function(self,minibatch):\n",
    "        # computes the cross entropy cost for a single minibatch\n",
    "        cost = 0;\n",
    "        for n in range(len(minibatch)):\n",
    "            x=minibatch[n][0]\n",
    "            y=minibatch[n][1]\n",
    "            prediction,dum1,dum2=self.feedforward(x)\n",
    "            cost += np.sum(-(y * np.log(prediction) - (1 - y) * np.log(1 - prediction)))\n",
    "\n",
    "        return cost \n",
    "\n",
    "    def Gradient_Descent(self, training_data, epoches,lr,batchsize,test_data=None):\n",
    "        # training_data is a list of tuples ([x1,x2],y) where y is the class and [x1,x2] is numpy array\n",
    "        # lr is the learning_rate, it is scalar\n",
    "        # epochs is a scalar value for the number of times the network is going to update its parameters        \n",
    "        \"\"\"        \n",
    "        if test_data: n_test = len(test_data)\n",
    "        n = len(training_data)\n",
    "        for j in range(epochs):\n",
    "            np.random.shuffle(training_data)\n",
    "            mini_batches = [\n",
    "                training_data[k:k+batchsize]\n",
    "                for k in range(0, n, batchsize)]\n",
    "            for mini_batch in mini_batches:\n",
    "                self.update_params(mini_batch,lr) \n",
    "                cost =self.cost_function(mini_batch)\n",
    "                self.costs.append(cost/len(mini_batch))\n",
    "            if test_data:\n",
    "                correct = self.evaluate(test_data)\n",
    "                print (\"Epoch {0}: {1} / {2} Cost: {3} Accuracy: {4}\".format(j, correct, n_test,cost/len(mini_batch),correct/n_test))\n",
    "                self.accuracies.append(correct/n_test)\n",
    "            else:\n",
    "                print (\"Epoch {0} complete\".format(j))    \n",
    "        \"\"\"\n",
    "        if test_data: n_test = len(test_data)\n",
    "        n = len(training_data)\n",
    "        \n",
    "        for j in range(epochs):\n",
    "            epoch_cost = 0\n",
    "            np.random.shuffle(training_data)\n",
    "            mini_batches = [\n",
    "                training_data[k:k+batchsize]\n",
    "                for k in range(0, n, batchsize)]\n",
    "            #print(len(mini_batches))\n",
    "            for mini_batch in mini_batches:\n",
    "                self.update_params(mini_batch,lr) \n",
    "                cost =self.cost_function(mini_batch)\n",
    "                epoch_cost += (cost/len(mini_batch))\n",
    "            if test_data:\n",
    "                self.costs.append(epoch_cost/len(mini_batches))\n",
    "                correct = self.evaluate(test_data)\n",
    "                print (\"Epoch {0}: {1} / {2} Cost: {3} Accuracy: {4}\".format(j, correct, n_test, epoch_cost/len(mini_batches),correct/n_test))\n",
    "                self.accuracies.append(correct/n_test)\n",
    "            else:\n",
    "                print (\"Epoch {0} complete\".format(j))  \n",
    "        return self.costs  \n",
    "  \n",
    "        \n",
    "    def update_params(self, minibatch, lr):\n",
    "        # X is all the training data\n",
    "        # X contains pairs (x,y) where x is the feature vector and y its class label\n",
    "        N = len(minibatch) #batchsize\n",
    "        grad_b = [np.zeros(b.shape) for b in self.biases]\n",
    "        grad_w = [np.zeros(w.shape) for w in self.weights]\n",
    "        #print(len(grad_b))\n",
    "        #print(grad_b[0].shape)\n",
    "        #Gradient Descent parameter updates\n",
    "        for x,y in minibatch:\n",
    "            delta_grad_b, delta_grad_w = self.backprop(x, y) \n",
    "            grad_b = [nb+dnb for nb, dnb in zip(grad_b, delta_grad_b)]\n",
    "            grad_w = [nw+dnw for nw, dnw in zip(grad_w, delta_grad_w)] \n",
    "    \n",
    "            self.weights = [w-lr*nw/N for w, nw in zip(self.weights, grad_w)]  \n",
    "            self.biases =  [b-lr*nb/N for b, nb in zip(self.biases,  grad_b)]\n",
    "\n",
    "        \n",
    "    def backprop(self, x, y):\n",
    "        #Returns (grad_b, grad_w) representing the\n",
    "        #gradients for the cost function  wrt b and w . \n",
    "        grad_b = [np.zeros(b.shape) for b in self.biases]\n",
    "        grad_w = [np.zeros(w.shape) for w in self.weights]\n",
    "        \n",
    "        dummy,zs,activations= self.feedforward(x) #dummy is not used below \n",
    "      \n",
    "        # Grad at the ouput layer \n",
    "        delta = activations[-1]- y\n",
    "\n",
    "        grad_b[-1] = delta\n",
    "        grad_w[-1] = np.dot(delta,activations[-2].T)\n",
    "\n",
    "        L = self.num_layers #  input layer + hidden layers + ouput layers = 4\n",
    "        \n",
    "        for l in range(1, L-1):\n",
    "            z = zs[-l-1]\n",
    "            if self.activation_func[-l]=='relu': \n",
    "                delta = np.dot(self.weights[-l].transpose(), delta) * relu_gradient(z)    \n",
    "            elif self.activation_func[-l]=='sigmoid':\n",
    "                delta = np.dot(self.weights[-l].transpose(), delta) * sigmoid_gradient(z)    \n",
    "            # gradients of the parameters of the l-th layer\n",
    "            grad_b[-l-1] = delta \n",
    "            grad_w[-l-1] = np.dot(delta, activations[-l-2].T) \n",
    "        \n",
    "        #print(grad_b[2].shape)\n",
    "        #print(len(grad_b))\n",
    "        return (grad_b, grad_w)\n",
    "    \n",
    "    def evaluate(self, X):\n",
    "        correct = 0\n",
    "        for n in range(len(X)):\n",
    "            x=X[n][0]\n",
    "            y=X[n][1]\n",
    "            prediction,dum1,dum2=self.feedforward(x)\n",
    "            correct += int(np.argmax(y) == np.argmax(prediction))\n",
    "        return correct\n"
   ]
  },
  {
   "cell_type": "code",
   "execution_count": 65,
   "metadata": {
    "collapsed": true
   },
   "outputs": [],
   "source": [
    "nnodes=[784,100,50,10]\n",
    "learning_rate = 0.0001\n",
    "epochs = 20\n",
    "batch_size = 126\n",
    "#tr_batch= mnist.train.next_batch(batch_size)\n",
    "#training_inputs = [np.reshape(x, (784, 1)) for x in tr_d[0]]\n",
    "#training_results = [np.reshape(y,(10,1)) for y in tr_d[1]]\n",
    "x, y = mnist.train.images, mnist.train.labels\n",
    "x_t, y_t = mnist.test.images, mnist.test.labels\n",
    "training_inputs = [np.reshape(x, (784, 1)) for x in x]\n",
    "training_results = [np.reshape(y,(10,1)) for y in y]\n",
    "testing_inputs = [np.reshape(x, (784, 1)) for x in x_t]\n",
    "testing_results = [np.reshape(y,(10,1)) for y in y_t]\n",
    "train_data = list(zip(training_inputs, training_results))\n",
    "test_data = list(zip(testing_inputs, testing_results))\n",
    "activation_func=['sigmoid','relu'] # use 'sigmoid' or 'relu'\n",
    "nnet = Network(nnodes,activation_func)\n"
   ]
  },
  {
   "cell_type": "code",
   "execution_count": 66,
   "metadata": {},
   "outputs": [
    {
     "name": "stdout",
     "output_type": "stream",
     "text": [
      "Epoch 0: 6153 / 10000 Cost: 1.275790707043728 Accuracy: 0.6153\n",
      "Epoch 1: 7166 / 10000 Cost: 0.984687961575514 Accuracy: 0.7166\n",
      "Epoch 2: 7788 / 10000 Cost: 0.69456366226581 Accuracy: 0.7788\n",
      "Epoch 3: 7993 / 10000 Cost: 0.4562528868666425 Accuracy: 0.7993\n",
      "Epoch 4: 8186 / 10000 Cost: 0.32368508768098536 Accuracy: 0.8186\n",
      "Epoch 5: 8374 / 10000 Cost: 0.2549802405450448 Accuracy: 0.8374\n",
      "Epoch 6: 8490 / 10000 Cost: 0.21577570133182533 Accuracy: 0.849\n",
      "Epoch 7: 8587 / 10000 Cost: 0.19093756731253378 Accuracy: 0.8587\n",
      "Epoch 8: 8677 / 10000 Cost: 0.17349604397948956 Accuracy: 0.8677\n",
      "Epoch 9: 8743 / 10000 Cost: 0.1610764192995576 Accuracy: 0.8743\n",
      "Epoch 10: 8802 / 10000 Cost: 0.1513394453178272 Accuracy: 0.8802\n",
      "Epoch 11: 8842 / 10000 Cost: 0.1436559648842627 Accuracy: 0.8842\n",
      "Epoch 12: 8889 / 10000 Cost: 0.1374826793122531 Accuracy: 0.8889\n",
      "Epoch 13: 8906 / 10000 Cost: 0.13257590920189874 Accuracy: 0.8906\n",
      "Epoch 14: 8929 / 10000 Cost: 0.12832359927341547 Accuracy: 0.8929\n",
      "Epoch 15: 8958 / 10000 Cost: 0.12467246669990051 Accuracy: 0.8958\n",
      "Epoch 16: 8974 / 10000 Cost: 0.12163305550534648 Accuracy: 0.8974\n",
      "Epoch 17: 8979 / 10000 Cost: 0.119034492838103 Accuracy: 0.8979\n",
      "Epoch 18: 9003 / 10000 Cost: 0.11686085751942654 Accuracy: 0.9003\n",
      "Epoch 19: 9007 / 10000 Cost: 0.11475404517403481 Accuracy: 0.9007\n"
     ]
    },
    {
     "data": {
      "text/plain": [
       "[1.275790707043728,\n",
       " 0.98468796157551397,\n",
       " 0.69456366226581001,\n",
       " 0.4562528868666425,\n",
       " 0.32368508768098536,\n",
       " 0.25498024054504481,\n",
       " 0.21577570133182533,\n",
       " 0.19093756731253378,\n",
       " 0.17349604397948956,\n",
       " 0.1610764192995576,\n",
       " 0.1513394453178272,\n",
       " 0.14365596488426269,\n",
       " 0.13748267931225311,\n",
       " 0.13257590920189874,\n",
       " 0.12832359927341547,\n",
       " 0.12467246669990051,\n",
       " 0.12163305550534648,\n",
       " 0.119034492838103,\n",
       " 0.11686085751942654,\n",
       " 0.11475404517403481]"
      ]
     },
     "execution_count": 66,
     "metadata": {},
     "output_type": "execute_result"
    }
   ],
   "source": [
    "nnet.Gradient_Descent(train_data,epochs,learning_rate,batch_size,test_data)"
   ]
  },
  {
   "cell_type": "code",
   "execution_count": 68,
   "metadata": {
    "collapsed": true
   },
   "outputs": [],
   "source": [
    "cost = [1.275790707043728,\n",
    " 0.98468796157551397,\n",
    " 0.69456366226581001,\n",
    " 0.4562528868666425,\n",
    " 0.32368508768098536,\n",
    " 0.25498024054504481,\n",
    " 0.21577570133182533,\n",
    " 0.19093756731253378,\n",
    " 0.17349604397948956,\n",
    " 0.1610764192995576,\n",
    " 0.1513394453178272,\n",
    " 0.14365596488426269,\n",
    " 0.13748267931225311,\n",
    " 0.13257590920189874,\n",
    " 0.12832359927341547,\n",
    " 0.12467246669990051,\n",
    " 0.12163305550534648,\n",
    " 0.119034492838103,\n",
    " 0.11686085751942654,\n",
    " 0.11475404517403481]"
   ]
  },
  {
   "cell_type": "code",
   "execution_count": 79,
   "metadata": {},
   "outputs": [
    {
     "data": {
      "image/png": "[encoded data removed]",
      "text/plain": [
       "<matplotlib.figure.Figure at 0x1224a3b38>"
      ]
     },
     "metadata": {},
     "output_type": "display_data"
    }
   ],
   "source": [
    "plt.figure()\n",
    "plt.plot(cost)\n",
    "plt.xticks(np.arange(0,22,2))\n",
    "plt.title('model loss')\n",
    "plt.xlabel('epoch')\n",
    "plt.ylabel('loss')\n",
    "plt.show()"
   ]
  },
  {
   "cell_type": "code",
   "execution_count": null,
   "metadata": {
    "collapsed": true
   },
   "outputs": [],
   "source": []
  }
 ],
 "metadata": {
  "kernelspec": {
   "display_name": "Python 3",
   "language": "python",
   "name": "python3"
  },
  "language_info": {
   "codemirror_mode": {
    "name": "ipython",
    "version": 3
   },
   "file_extension": ".py",
   "mimetype": "text/x-python",
   "name": "python",
   "nbconvert_exporter": "python",
   "pygments_lexer": "ipython3",
   "version": "3.6.2"
  }
 },
 "nbformat": 4,
 "nbformat_minor": 2
}
